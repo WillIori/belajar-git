{
  "nbformat": 4,
  "nbformat_minor": 0,
  "metadata": {
    "colab": {
      "provenance": []
    },
    "kernelspec": {
      "name": "python3",
      "display_name": "Python 3"
    },
    "language_info": {
      "name": "python"
    }
  },
  "cells": [
    {
      "cell_type": "code",
      "execution_count": 9,
      "metadata": {
        "id": "bCFML5TwWZ_6"
      },
      "outputs": [],
      "source": [
        "import pandas as pd"
      ]
    },
    {
      "cell_type": "code",
      "source": [
        "df = pd.read_excel('Cola.xlsx')"
      ],
      "metadata": {
        "id": "5uuobKK1XJl0"
      },
      "execution_count": 10,
      "outputs": []
    },
    {
      "cell_type": "code",
      "source": [
        "print(df.head())\n",
        "print(df.isnull().sum())\n",
        "print(df.info)"
      ],
      "metadata": {
        "colab": {
          "base_uri": "https://localhost:8080/"
        },
        "id": "3NngHvgHXhlT",
        "outputId": "78944cef-9a6d-4c7a-d2cf-4c0b561f7c63"
      },
      "execution_count": 11,
      "outputs": [
        {
          "output_type": "stream",
          "name": "stdout",
          "text": [
            "   Data provided by SimFin              Unnamed: 1 Unnamed: 2 Unnamed: 3  \\\n",
            "0                      NaN                     NaN        NaN        NaN   \n",
            "1  Profit & Loss statement                     NaN        NaN        NaN   \n",
            "2                      NaN          in million USD     FY '09     FY '10   \n",
            "3                      NaN  NET OPERATING REVENUES      30990      35119   \n",
            "4                      NaN      Cost of goods sold      11088      12693   \n",
            "\n",
            "  Unnamed: 4 Unnamed: 5 Unnamed: 6 Unnamed: 7 Unnamed: 8 Unnamed: 9  \\\n",
            "0        NaN        NaN        NaN        NaN        NaN        NaN   \n",
            "1        NaN        NaN        NaN        NaN        NaN        NaN   \n",
            "2     FY '11     FY '12     FY '13     FY '14     FY '15     FY '16   \n",
            "3      46542      48017      46854      45998      44294      41863   \n",
            "4      18215      19053      18421      17889      17482      16465   \n",
            "\n",
            "  Unnamed: 10 Unnamed: 11  \n",
            "0         NaN         NaN  \n",
            "1         NaN         NaN  \n",
            "2      FY '17      FY '18  \n",
            "3       35410       31856  \n",
            "4       13255       11770  \n",
            "Data provided by SimFin    100\n",
            "Unnamed: 1                   6\n",
            "Unnamed: 2                  21\n",
            "Unnamed: 3                  21\n",
            "Unnamed: 4                  21\n",
            "Unnamed: 5                  21\n",
            "Unnamed: 6                  21\n",
            "Unnamed: 7                  21\n",
            "Unnamed: 8                  13\n",
            "Unnamed: 9                  11\n",
            "Unnamed: 10                 10\n",
            "Unnamed: 11                 10\n",
            "dtype: int64\n",
            "<bound method DataFrame.info of      Data provided by SimFin  \\\n",
            "0                        NaN   \n",
            "1    Profit & Loss statement   \n",
            "2                        NaN   \n",
            "3                        NaN   \n",
            "4                        NaN   \n",
            "..                       ...   \n",
            "98                       NaN   \n",
            "99                       NaN   \n",
            "100                      NaN   \n",
            "101                      NaN   \n",
            "102                      NaN   \n",
            "\n",
            "                                            Unnamed: 1 Unnamed: 2 Unnamed: 3  \\\n",
            "0                                                  NaN        NaN        NaN   \n",
            "1                                                  NaN        NaN        NaN   \n",
            "2                                       in million USD     FY '09     FY '10   \n",
            "3                               NET OPERATING REVENUES      30990      35119   \n",
            "4                                   Cost of goods sold      11088      12693   \n",
            "..                                                 ...        ...        ...   \n",
            "98   Effect of exchange rate changes on cash and ca...        576       -166   \n",
            "99   Cash Provided by (Used in) Investing Activitie...        NaN        NaN   \n",
            "100  Cash Provided by (Used in) Financing Activitie...        NaN        NaN   \n",
            "101  Net Cash Provided by (Used in) Discontinued Op...        NaN        NaN   \n",
            "102            Net increase (decrease) during the year       2320       1496   \n",
            "\n",
            "    Unnamed: 4 Unnamed: 5 Unnamed: 6 Unnamed: 7 Unnamed: 8 Unnamed: 9  \\\n",
            "0          NaN        NaN        NaN        NaN        NaN        NaN   \n",
            "1          NaN        NaN        NaN        NaN        NaN        NaN   \n",
            "2       FY '11     FY '12     FY '13     FY '14     FY '15     FY '16   \n",
            "3        46542      48017      46854      45998      44294      41863   \n",
            "4        18215      19053      18421      17889      17482      16465   \n",
            "..         ...        ...        ...        ...        ...        ...   \n",
            "98        -430       -255       -611       -934       -878         -6   \n",
            "99         NaN        NaN        NaN        NaN          0          0   \n",
            "100        NaN        NaN        NaN        NaN          0          0   \n",
            "101        NaN        NaN        NaN        NaN          0          0   \n",
            "102       4286      -4361       1972      -1456      -1649       1246   \n",
            "\n",
            "    Unnamed: 10 Unnamed: 11  \n",
            "0           NaN         NaN  \n",
            "1           NaN         NaN  \n",
            "2        FY '17      FY '18  \n",
            "3         35410       31856  \n",
            "4         13255       11770  \n",
            "..          ...         ...  \n",
            "98          241        -262  \n",
            "99          -58        -421  \n",
            "100         -38         205  \n",
            "101          15          91  \n",
            "102       -2477        2945  \n",
            "\n",
            "[103 rows x 12 columns]>\n"
          ]
        }
      ]
    },
    {
      "cell_type": "code",
      "source": [
        "df = df.drop(columns=df.columns[0])\n",
        "\n",
        "df.columns = ['Item', \"FY '09\", \"FY '10\", \"FY '11\", \"FY '12\", \"FY '13\", \"FY '14\", \"FY '15\", \"FY '16\", \"FY '17\", \"FY '18\"]\n",
        "\n",
        "df = df.dropna(how='all')\n",
        "\n",
        "df = df.dropna(subset=['Item'])\n",
        "\n",
        "df = df.reset_index(drop=True)"
      ],
      "metadata": {
        "id": "DLinIebtXqo1"
      },
      "execution_count": 12,
      "outputs": []
    },
    {
      "cell_type": "code",
      "source": [
        "print(df.head())\n",
        "print(df.info())"
      ],
      "metadata": {
        "colab": {
          "base_uri": "https://localhost:8080/"
        },
        "id": "XP1wXkc8YR47",
        "outputId": "4969f75c-485e-477e-a32d-516d364fdc5c"
      },
      "execution_count": 13,
      "outputs": [
        {
          "output_type": "stream",
          "name": "stdout",
          "text": [
            "                                           Item  FY '09  FY '10  FY '11  \\\n",
            "0                                in million USD  FY '09  FY '10  FY '11   \n",
            "1                        NET OPERATING REVENUES   30990   35119   46542   \n",
            "2                            Cost of goods sold   11088   12693   18215   \n",
            "3                                  Gross Profit   19902   22426   28327   \n",
            "4  Selling, general and administrative expenses   11358   13194   17422   \n",
            "\n",
            "   FY '12  FY '13  FY '14  FY '15  FY '16  FY '17  FY '18  \n",
            "0  FY '12  FY '13  FY '14  FY '15  FY '16  FY '17  FY '18  \n",
            "1   48017   46854   45998   44294   41863   35410   31856  \n",
            "2   19053   18421   17889   17482   16465   13255   11770  \n",
            "3   28964   28433   28109   26812   25398   22155   20086  \n",
            "4   17738   17310   17218   16427   15262   12654   10307  \n",
            "<class 'pandas.core.frame.DataFrame'>\n",
            "RangeIndex: 97 entries, 0 to 96\n",
            "Data columns (total 11 columns):\n",
            " #   Column  Non-Null Count  Dtype \n",
            "---  ------  --------------  ----- \n",
            " 0   Item    97 non-null     object\n",
            " 1   FY '09  82 non-null     object\n",
            " 2   FY '10  82 non-null     object\n",
            " 3   FY '11  82 non-null     object\n",
            " 4   FY '12  82 non-null     object\n",
            " 5   FY '13  82 non-null     object\n",
            " 6   FY '14  82 non-null     object\n",
            " 7   FY '15  90 non-null     object\n",
            " 8   FY '16  92 non-null     object\n",
            " 9   FY '17  93 non-null     object\n",
            " 10  FY '18  93 non-null     object\n",
            "dtypes: object(11)\n",
            "memory usage: 8.5+ KB\n",
            "None\n"
          ]
        }
      ]
    },
    {
      "cell_type": "code",
      "source": [
        "df.to_excel(\"dataset_bersih.xlsx\", index=False)"
      ],
      "metadata": {
        "id": "baumGsZ9Yejo"
      },
      "execution_count": 14,
      "outputs": []
    },
    {
      "cell_type": "code",
      "source": [
        "df = pd.read_csv(\"dirty_cafe_sales.csv\")"
      ],
      "metadata": {
        "id": "HBii6I9sZWnx"
      },
      "execution_count": 16,
      "outputs": []
    },
    {
      "cell_type": "code",
      "source": [
        "print(df.head())\n",
        "print(df.isnull().sum())\n",
        "print(df.info())"
      ],
      "metadata": {
        "colab": {
          "base_uri": "https://localhost:8080/"
        },
        "id": "Ywsgboa5Z0BV",
        "outputId": "b72e00a2-98cf-43d4-bc3d-a8b1b8dcf705"
      },
      "execution_count": 17,
      "outputs": [
        {
          "output_type": "stream",
          "name": "stdout",
          "text": [
            "  Transaction ID    Item Quantity Price Per Unit Total Spent  Payment Method  \\\n",
            "0    TXN_1961373  Coffee        2            2.0         4.0     Credit Card   \n",
            "1    TXN_4977031    Cake        4            3.0        12.0            Cash   \n",
            "2    TXN_4271903  Cookie        4            1.0       ERROR     Credit Card   \n",
            "3    TXN_7034554   Salad        2            5.0        10.0         UNKNOWN   \n",
            "4    TXN_3160411  Coffee        2            2.0         4.0  Digital Wallet   \n",
            "\n",
            "   Location Transaction Date  \n",
            "0  Takeaway       2023-09-08  \n",
            "1  In-store       2023-05-16  \n",
            "2  In-store       2023-07-19  \n",
            "3   UNKNOWN       2023-04-27  \n",
            "4  In-store       2023-06-11  \n",
            "Transaction ID         0\n",
            "Item                 333\n",
            "Quantity             138\n",
            "Price Per Unit       179\n",
            "Total Spent          173\n",
            "Payment Method      2579\n",
            "Location            3265\n",
            "Transaction Date     159\n",
            "dtype: int64\n",
            "<class 'pandas.core.frame.DataFrame'>\n",
            "RangeIndex: 10000 entries, 0 to 9999\n",
            "Data columns (total 8 columns):\n",
            " #   Column            Non-Null Count  Dtype \n",
            "---  ------            --------------  ----- \n",
            " 0   Transaction ID    10000 non-null  object\n",
            " 1   Item              9667 non-null   object\n",
            " 2   Quantity          9862 non-null   object\n",
            " 3   Price Per Unit    9821 non-null   object\n",
            " 4   Total Spent       9827 non-null   object\n",
            " 5   Payment Method    7421 non-null   object\n",
            " 6   Location          6735 non-null   object\n",
            " 7   Transaction Date  9841 non-null   object\n",
            "dtypes: object(8)\n",
            "memory usage: 625.1+ KB\n",
            "None\n"
          ]
        }
      ]
    },
    {
      "cell_type": "code",
      "source": [
        "for col in ['Quantity', 'Price Per Unit', 'Total Spent']:\n",
        "    df[col] = pd.to_numeric(df[col], errors='coerce')"
      ],
      "metadata": {
        "id": "RudLH_1mZ80J"
      },
      "execution_count": 18,
      "outputs": []
    },
    {
      "cell_type": "code",
      "source": [
        "df['Payment Method'] = df['Payment Method'].replace('UNKNOWN', pd.NA)\n",
        "df['Location'] = df['Location'].replace('UNKNOWN', pd.NA)"
      ],
      "metadata": {
        "id": "ZZEuNc_AaIyY"
      },
      "execution_count": 19,
      "outputs": []
    },
    {
      "cell_type": "code",
      "source": [
        "df['Transaction Date'] = pd.to_datetime(df['Transaction Date'], errors='coerce')"
      ],
      "metadata": {
        "id": "QCrSZtXmaLJk"
      },
      "execution_count": 20,
      "outputs": []
    },
    {
      "cell_type": "code",
      "source": [
        "df = df.dropna(subset=['Item', 'Transaction Date'])"
      ],
      "metadata": {
        "id": "oUZHzGV0aNZp"
      },
      "execution_count": 21,
      "outputs": []
    },
    {
      "cell_type": "code",
      "source": [
        "df['Payment Method'] = df['Payment Method'].fillna('Unknown')"
      ],
      "metadata": {
        "id": "c-1UDcC6aPan"
      },
      "execution_count": 22,
      "outputs": []
    },
    {
      "cell_type": "code",
      "source": [
        "for col in ['Quantity', 'Price Per Unit', 'Total Spent']:\n",
        "    median_value = df[col].median()\n",
        "    df[col] = df[col].fillna(median_value)"
      ],
      "metadata": {
        "id": "adBLExQoaR02"
      },
      "execution_count": 23,
      "outputs": []
    },
    {
      "cell_type": "code",
      "source": [
        "df = df.reset_index(drop=True)"
      ],
      "metadata": {
        "id": "w77hpgcnaUab"
      },
      "execution_count": 24,
      "outputs": []
    },
    {
      "cell_type": "code",
      "source": [
        "print(df.info())\n",
        "print(df.head())"
      ],
      "metadata": {
        "colab": {
          "base_uri": "https://localhost:8080/"
        },
        "id": "3isRx-6_aXjx",
        "outputId": "9eef458f-b649-4d78-b819-4f76e6e3ff47"
      },
      "execution_count": 25,
      "outputs": [
        {
          "output_type": "stream",
          "name": "stdout",
          "text": [
            "<class 'pandas.core.frame.DataFrame'>\n",
            "RangeIndex: 9225 entries, 0 to 9224\n",
            "Data columns (total 8 columns):\n",
            " #   Column            Non-Null Count  Dtype         \n",
            "---  ------            --------------  -----         \n",
            " 0   Transaction ID    9225 non-null   object        \n",
            " 1   Item              9225 non-null   object        \n",
            " 2   Quantity          9225 non-null   float64       \n",
            " 3   Price Per Unit    9225 non-null   float64       \n",
            " 4   Total Spent       9225 non-null   float64       \n",
            " 5   Payment Method    9225 non-null   object        \n",
            " 6   Location          5890 non-null   object        \n",
            " 7   Transaction Date  9225 non-null   datetime64[ns]\n",
            "dtypes: datetime64[ns](1), float64(3), object(4)\n",
            "memory usage: 576.7+ KB\n",
            "None\n",
            "  Transaction ID    Item  Quantity  Price Per Unit  Total Spent  \\\n",
            "0    TXN_1961373  Coffee       2.0             2.0          4.0   \n",
            "1    TXN_4977031    Cake       4.0             3.0         12.0   \n",
            "2    TXN_4271903  Cookie       4.0             1.0          8.0   \n",
            "3    TXN_7034554   Salad       2.0             5.0         10.0   \n",
            "4    TXN_3160411  Coffee       2.0             2.0          4.0   \n",
            "\n",
            "   Payment Method  Location Transaction Date  \n",
            "0     Credit Card  Takeaway       2023-09-08  \n",
            "1            Cash  In-store       2023-05-16  \n",
            "2     Credit Card  In-store       2023-07-19  \n",
            "3         Unknown      <NA>       2023-04-27  \n",
            "4  Digital Wallet  In-store       2023-06-11  \n"
          ]
        }
      ]
    },
    {
      "cell_type": "code",
      "source": [
        "df.to_csv(\"clean_cafe_sales.csv\", index=False)"
      ],
      "metadata": {
        "id": "w4PlVK_JabHi"
      },
      "execution_count": 26,
      "outputs": []
    }
  ]
}